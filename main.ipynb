{
 "cells": [
  {
   "cell_type": "code",
   "execution_count": null,
   "metadata": {},
   "outputs": [],
   "source": [
    "from enum import Enum\n",
    "\n",
    "class BinaryOp(Enum):\n",
    "    ADD = \"+\"\n",
    "    SUB = \"-\"\n",
    "    MUL = \"*\"\n",
    "    DIV = \"/\"\n",
    "\n",
    "class Expression(object):\n",
    "    pass\n",
    "\n",
    "class BinaryExpression(Expression):\n",
    "    def __init__(self, op: BinaryOp, lhs: Expression, rhs: Expression) -> None:\n",
    "        super().__init__()\n",
    "        self.op = op\n",
    "        self.lhs = lhs\n",
    "        self.rhs = rhs\n",
    "\n",
    "    def evaluate(self):\n",
    "        pass"
   ]
  }
 ],
 "metadata": {
  "language_info": {
   "name": "python"
  }
 },
 "nbformat": 4,
 "nbformat_minor": 2
}
