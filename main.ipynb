{
 "cells": [
  {
   "cell_type": "code",
   "execution_count": 138,
   "metadata": {},
   "outputs": [],
   "source": [
    "import numpy as np"
   ]
  },
  {
   "cell_type": "code",
   "execution_count": 139,
   "metadata": {},
   "outputs": [],
   "source": [
    "from enum import Enum\n",
    "\n",
    "class BinaryOp(Enum):\n",
    "    ADD = \"+\"\n",
    "    SUB = \"-\"\n",
    "    MUL = \"*\"\n",
    "    DIV = \"/\"\n",
    "    POW = \"^\"\n",
    "\n",
    "    def evaluate(self, lhs, rhs):\n",
    "        if self == BinaryOp.ADD:\n",
    "            return lhs + rhs\n",
    "        elif self == BinaryOp.SUB:\n",
    "            return lhs - rhs\n",
    "        elif self == BinaryOp.MUL:\n",
    "            return lhs * rhs\n",
    "        elif self == BinaryOp.DIV:\n",
    "            return lhs / rhs\n",
    "        elif self == BinaryOp.POW:\n",
    "            return np.power(lhs, rhs)\n",
    "        else:\n",
    "            raise RuntimeError(\"Invalid binary operator.\")\n",
    "        \n",
    "class UnaryOp(Enum):\n",
    "    NEG = \"-\"\n",
    "    EXP = \"exp\"\n",
    "    SIN = \"sin\"\n",
    "    COS = \"cos\"\n",
    "    TAN = \"tan\"\n",
    "    ASIN = \"asin\"\n",
    "    ACOS = \"acos\"\n",
    "    ATAN = \"atan\"\n",
    "    SQRT = \"sqrt\"\n",
    "\n",
    "    def evaluate(self, value):\n",
    "        if self == UnaryOp.NEG:\n",
    "            return -value\n",
    "        elif self == UnaryOp.EXP:\n",
    "            return np.exp(value)\n",
    "        elif self == UnaryOp.SIN:\n",
    "            return np.sin(value)\n",
    "        elif self == UnaryOp.COS:\n",
    "            return np.cos(value)\n",
    "        elif self == UnaryOp.TAN:\n",
    "            return np.tan(value)\n",
    "        elif self == UnaryOp.ASIN:\n",
    "            return np.arcsin(value)\n",
    "        elif self == UnaryOp.ACOS:\n",
    "            return np.arccos(value)\n",
    "        elif self == UnaryOp.ATAN:\n",
    "            return np.arctan(value)\n",
    "        elif self == UnaryOp.SQRT:\n",
    "            return np.sqrt(value)\n",
    "        else:\n",
    "            raise RuntimeError(\"Invalid unary operator.\")\n",
    "\n",
    "class Expression(object):\n",
    "    def evaluate(self, context):\n",
    "        raise NotImplemented\n",
    "    \n",
    "    def simplify(self):\n",
    "        raise NotImplemented\n",
    "    \n",
    "    def __str__(self) -> str:\n",
    "        raise NotImplemented\n",
    "\n",
    "class ConstantExpression(Expression):\n",
    "    def __init__(self, value) -> None:\n",
    "        super().__init__()\n",
    "        self.value = value\n",
    "\n",
    "    def evaluate(self, context):\n",
    "        return self.value\n",
    "    \n",
    "    def simplify(self):\n",
    "        return self\n",
    "    \n",
    "    def __str__(self) -> str:\n",
    "        return str(self.value)\n",
    "    \n",
    "class VariableExpression(Expression):\n",
    "    def __init__(self, name: str) -> None:\n",
    "        super().__init__()\n",
    "        self.name = name\n",
    "\n",
    "    def evaluate(self, context):\n",
    "        return context[self.name]\n",
    "    \n",
    "    def simplify(self):\n",
    "        return self\n",
    "    \n",
    "    def __str__(self) -> str:\n",
    "        return self.name\n",
    "    \n",
    "class UnaryExpression(Expression):\n",
    "    def __init__(self, op: UnaryOp, expr: Expression) -> None:\n",
    "        super().__init__()\n",
    "        self.op = op\n",
    "        self.expr = expr\n",
    "\n",
    "    def evaluate(self, context):\n",
    "        return self.op.evaluate(self.expr.evaluate(context))\n",
    "    \n",
    "    def simplify(self):\n",
    "        expr = self.expr.simplify()\n",
    "\n",
    "        if isinstance(expr, ConstantExpression):\n",
    "            return ConstantExpression(self.op.evaluate(expr.evaluate(None)))\n",
    "\n",
    "        return UnaryExpression(self.op, expr)\n",
    "    \n",
    "    def __str__(self) -> str:\n",
    "        return f\"{self.op.value}({self.expr})\"\n",
    "\n",
    "class BinaryExpression(Expression):\n",
    "    def __init__(self, op: BinaryOp, lhs: Expression, rhs: Expression) -> None:\n",
    "        super().__init__()\n",
    "        self.op = op\n",
    "        self.lhs = lhs\n",
    "        self.rhs = rhs\n",
    "\n",
    "    def evaluate(self, context):\n",
    "        lhs_value = self.lhs.evaluate(context)\n",
    "        rhs_value = self.rhs.evaluate(context)\n",
    "        return self.op.evaluate(lhs_value, rhs_value)\n",
    "    \n",
    "    def simplify(self):\n",
    "        lhs = self.lhs.simplify()\n",
    "        rhs = self.rhs.simplify()\n",
    "\n",
    "        if isinstance(lhs, ConstantExpression) and isinstance(rhs, ConstantExpression):\n",
    "            return ConstantExpression(self.op.evaluate(lhs.evaluate(None), rhs.evaluate(None)))\n",
    "\n",
    "        return BinaryExpression(self.op, lhs, rhs)\n",
    "    \n",
    "    def __str__(self) -> str:\n",
    "        return f\"({self.lhs} {self.op.value} {self.rhs})\"\n"
   ]
  },
  {
   "cell_type": "code",
   "execution_count": 140,
   "metadata": {},
   "outputs": [
    {
     "name": "stdout",
     "output_type": "stream",
     "text": [
      "9\n",
      "(5 + 4)\n",
      "True\n",
      "False\n"
     ]
    }
   ],
   "source": [
    "expr = BinaryExpression(BinaryOp.ADD, ConstantExpression(np.array(5)), ConstantExpression(np.array(4)))\n",
    "print(expr.evaluate(None))\n",
    "print(expr)\n",
    "print(isinstance(expr, BinaryExpression))\n",
    "print(expr is ConstantExpression)"
   ]
  },
  {
   "cell_type": "code",
   "execution_count": 141,
   "metadata": {},
   "outputs": [],
   "source": [
    "def random_binary_expression(depth: int, options):\n",
    "    if depth == 0:\n",
    "        if np.random.choice(2) == 0:\n",
    "            return ConstantExpression(np.random.randint(1, 10))\n",
    "        else:\n",
    "            return VariableExpression(\"x\")\n",
    "    else:\n",
    "        op = np.random.choice(options[\"BINARY_OPERATORS\"])\n",
    "        expr = BinaryExpression(op, random_binary_expression(depth - 1, options), random_binary_expression(depth - 1, options))\n",
    "        if np.random.choice(5) == 0:\n",
    "            op = np.random.choice(options[\"UNARY_OPERATORS\"])\n",
    "            expr = UnaryExpression(op, expr)\n",
    "        return expr"
   ]
  },
  {
   "cell_type": "code",
   "execution_count": 142,
   "metadata": {},
   "outputs": [
    {
     "name": "stdout",
     "output_type": "stream",
     "text": [
      "(((x * x) * -0.45231565944180985) + ((x + x) + (x * x)))\n"
     ]
    },
    {
     "data": {
      "text/plain": [
       "[<matplotlib.lines.Line2D at 0x170242aad20>]"
      ]
     },
     "execution_count": 142,
     "metadata": {},
     "output_type": "execute_result"
    },
    {
     "data": {
      "image/png": "[encoded data removed]",
      "text/plain": [
       "<Figure size 640x480 with 1 Axes>"
      ]
     },
     "metadata": {},
     "output_type": "display_data"
    }
   ],
   "source": [
    "import matplotlib.pyplot as plt\n",
    "\n",
    "options = { \"BINARY_OPERATORS\": [ BinaryOp.ADD, BinaryOp.MUL ], \"UNARY_OPERATORS\": [ UnaryOp.SQRT, UnaryOp.SIN, UnaryOp.TAN ] }\n",
    "expr = random_binary_expression(3, options).simplify()\n",
    "print(expr)\n",
    "N = 100\n",
    "X = np.linspace(0, 10, N)\n",
    "Y = expr.evaluate({ \"x\": X })\n",
    "plt.plot(X, Y)\n",
    "plt.scatter(X, Y + np.random.normal(size=np.shape(X)[0], scale=np.std(Y) * 0.1), marker='+', color='red')\n",
    "fit = np.polynomial.Polynomial.fit(X, Y, deg=5)\n",
    "plt.plot(X, fit(X))"
   ]
  }
 ],
 "metadata": {
  "kernelspec": {
   "display_name": "Python 3",
   "language": "python",
   "name": "python3"
  },
  "language_info": {
   "codemirror_mode": {
    "name": "ipython",
    "version": 3
   },
   "file_extension": ".py",
   "mimetype": "text/x-python",
   "name": "python",
   "nbconvert_exporter": "python",
   "pygments_lexer": "ipython3",
   "version": "3.12.0"
  }
 },
 "nbformat": 4,
 "nbformat_minor": 2
}
